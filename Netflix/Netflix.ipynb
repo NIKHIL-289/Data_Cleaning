{
 "cells": [
  {
   "cell_type": "code",
   "execution_count": 1,
   "id": "f65e5cbf-7edd-4f47-8d3e-d2804e079b96",
   "metadata": {},
   "outputs": [],
   "source": [
    "import pandas as pd"
   ]
  },
  {
   "cell_type": "code",
   "execution_count": 2,
   "id": "4e59b91d-c6f9-4a94-a071-a9d508d8dbae",
   "metadata": {},
   "outputs": [],
   "source": [
    "data = pd.read_csv(\"/Users/nikhiltripathi/Downloads/netflix1.csv\")"
   ]
  },
  {
   "cell_type": "code",
   "execution_count": 5,
   "id": "91f5e8c4-f616-42a0-9100-9a1a49d33a0f",
   "metadata": {},
   "outputs": [
    {
     "data": {
      "text/html": [
       "<div>\n",
       "<style scoped>\n",
       "    .dataframe tbody tr th:only-of-type {\n",
       "        vertical-align: middle;\n",
       "    }\n",
       "\n",
       "    .dataframe tbody tr th {\n",
       "        vertical-align: top;\n",
       "    }\n",
       "\n",
       "    .dataframe thead th {\n",
       "        text-align: right;\n",
       "    }\n",
       "</style>\n",
       "<table border=\"1\" class=\"dataframe\">\n",
       "  <thead>\n",
       "    <tr style=\"text-align: right;\">\n",
       "      <th></th>\n",
       "      <th>show_id</th>\n",
       "      <th>type</th>\n",
       "      <th>title</th>\n",
       "      <th>director</th>\n",
       "      <th>country</th>\n",
       "      <th>date_added</th>\n",
       "      <th>release_year</th>\n",
       "      <th>rating</th>\n",
       "      <th>duration</th>\n",
       "      <th>listed_in</th>\n",
       "    </tr>\n",
       "  </thead>\n",
       "  <tbody>\n",
       "    <tr>\n",
       "      <th>0</th>\n",
       "      <td>s1</td>\n",
       "      <td>Movie</td>\n",
       "      <td>Dick Johnson Is Dead</td>\n",
       "      <td>Kirsten Johnson</td>\n",
       "      <td>United States</td>\n",
       "      <td>9/25/2021</td>\n",
       "      <td>2020</td>\n",
       "      <td>PG-13</td>\n",
       "      <td>90 min</td>\n",
       "      <td>Documentaries</td>\n",
       "    </tr>\n",
       "    <tr>\n",
       "      <th>1</th>\n",
       "      <td>s3</td>\n",
       "      <td>TV Show</td>\n",
       "      <td>Ganglands</td>\n",
       "      <td>Julien Leclercq</td>\n",
       "      <td>France</td>\n",
       "      <td>9/24/2021</td>\n",
       "      <td>2021</td>\n",
       "      <td>TV-MA</td>\n",
       "      <td>1 Season</td>\n",
       "      <td>Crime TV Shows, International TV Shows, TV Act...</td>\n",
       "    </tr>\n",
       "    <tr>\n",
       "      <th>2</th>\n",
       "      <td>s6</td>\n",
       "      <td>TV Show</td>\n",
       "      <td>Midnight Mass</td>\n",
       "      <td>Mike Flanagan</td>\n",
       "      <td>United States</td>\n",
       "      <td>9/24/2021</td>\n",
       "      <td>2021</td>\n",
       "      <td>TV-MA</td>\n",
       "      <td>1 Season</td>\n",
       "      <td>TV Dramas, TV Horror, TV Mysteries</td>\n",
       "    </tr>\n",
       "    <tr>\n",
       "      <th>3</th>\n",
       "      <td>s14</td>\n",
       "      <td>Movie</td>\n",
       "      <td>Confessions of an Invisible Girl</td>\n",
       "      <td>Bruno Garotti</td>\n",
       "      <td>Brazil</td>\n",
       "      <td>9/22/2021</td>\n",
       "      <td>2021</td>\n",
       "      <td>TV-PG</td>\n",
       "      <td>91 min</td>\n",
       "      <td>Children &amp; Family Movies, Comedies</td>\n",
       "    </tr>\n",
       "    <tr>\n",
       "      <th>4</th>\n",
       "      <td>s8</td>\n",
       "      <td>Movie</td>\n",
       "      <td>Sankofa</td>\n",
       "      <td>Haile Gerima</td>\n",
       "      <td>United States</td>\n",
       "      <td>9/24/2021</td>\n",
       "      <td>1993</td>\n",
       "      <td>TV-MA</td>\n",
       "      <td>125 min</td>\n",
       "      <td>Dramas, Independent Movies, International Movies</td>\n",
       "    </tr>\n",
       "  </tbody>\n",
       "</table>\n",
       "</div>"
      ],
      "text/plain": [
       "  show_id     type                             title         director  \\\n",
       "0      s1    Movie              Dick Johnson Is Dead  Kirsten Johnson   \n",
       "1      s3  TV Show                         Ganglands  Julien Leclercq   \n",
       "2      s6  TV Show                     Midnight Mass    Mike Flanagan   \n",
       "3     s14    Movie  Confessions of an Invisible Girl    Bruno Garotti   \n",
       "4      s8    Movie                           Sankofa     Haile Gerima   \n",
       "\n",
       "         country date_added  release_year rating  duration  \\\n",
       "0  United States  9/25/2021          2020  PG-13    90 min   \n",
       "1         France  9/24/2021          2021  TV-MA  1 Season   \n",
       "2  United States  9/24/2021          2021  TV-MA  1 Season   \n",
       "3         Brazil  9/22/2021          2021  TV-PG    91 min   \n",
       "4  United States  9/24/2021          1993  TV-MA   125 min   \n",
       "\n",
       "                                           listed_in  \n",
       "0                                      Documentaries  \n",
       "1  Crime TV Shows, International TV Shows, TV Act...  \n",
       "2                 TV Dramas, TV Horror, TV Mysteries  \n",
       "3                 Children & Family Movies, Comedies  \n",
       "4   Dramas, Independent Movies, International Movies  "
      ]
     },
     "execution_count": 5,
     "metadata": {},
     "output_type": "execute_result"
    }
   ],
   "source": [
    "data.head()"
   ]
  },
  {
   "cell_type": "code",
   "execution_count": 6,
   "id": "7b37390b-dd83-4e86-82ae-c0f0678f79fa",
   "metadata": {},
   "outputs": [
    {
     "name": "stdout",
     "output_type": "stream",
     "text": [
      "<class 'pandas.core.frame.DataFrame'>\n",
      "RangeIndex: 8790 entries, 0 to 8789\n",
      "Data columns (total 10 columns):\n",
      " #   Column        Non-Null Count  Dtype \n",
      "---  ------        --------------  ----- \n",
      " 0   show_id       8790 non-null   object\n",
      " 1   type          8790 non-null   object\n",
      " 2   title         8790 non-null   object\n",
      " 3   director      8790 non-null   object\n",
      " 4   country       8790 non-null   object\n",
      " 5   date_added    8790 non-null   object\n",
      " 6   release_year  8790 non-null   int64 \n",
      " 7   rating        8790 non-null   object\n",
      " 8   duration      8790 non-null   object\n",
      " 9   listed_in     8790 non-null   object\n",
      "dtypes: int64(1), object(9)\n",
      "memory usage: 686.8+ KB\n"
     ]
    }
   ],
   "source": [
    "data.info()"
   ]
  },
  {
   "cell_type": "code",
   "execution_count": 14,
   "id": "6d3af04c-3be2-4847-8aa6-e529f9f0b7e7",
   "metadata": {},
   "outputs": [
    {
     "data": {
      "text/plain": [
       "'Data Cleaning:\\n\\nDeleting redundant columns.\\nRenaming the columns.\\nDropping duplicates.\\nRemove the NaN values from the dataset\\nCleaning individual columns.\\nCheck for some more Transformations\\n'"
      ]
     },
     "execution_count": 14,
     "metadata": {},
     "output_type": "execute_result"
    }
   ],
   "source": [
    "\"\"\"Data Cleaning:\n",
    "Deleting redundant columns.\n",
    "Renaming the columns.\n",
    "Dropping duplicates.\n",
    "Remove the NaN values from the dataset\n",
    "Cleaning individual columns.\n",
    "Check for some more Transformations\n",
    "\"\"\""
   ]
  },
  {
   "cell_type": "code",
   "execution_count": 17,
   "id": "59dbb18c-a3f7-4ce5-85b3-427d3c15da16",
   "metadata": {},
   "outputs": [
    {
     "data": {
      "text/plain": [
       "(8790, 10)"
      ]
     },
     "execution_count": 17,
     "metadata": {},
     "output_type": "execute_result"
    }
   ],
   "source": [
    "data.shape"
   ]
  },
  {
   "cell_type": "code",
   "execution_count": 18,
   "id": "f9168aa8-17d8-499d-8320-9670d8f4faf6",
   "metadata": {},
   "outputs": [
    {
     "data": {
      "text/plain": [
       "Index(['show_id', 'type', 'title', 'director', 'country', 'date_added',\n",
       "       'release_year', 'rating', 'duration', 'listed_in'],\n",
       "      dtype='object')"
      ]
     },
     "execution_count": 18,
     "metadata": {},
     "output_type": "execute_result"
    }
   ],
   "source": [
    "data.columns"
   ]
  },
  {
   "cell_type": "markdown",
   "id": "272681ed-8842-49af-82b9-72534cbe3df2",
   "metadata": {},
   "source": [
    "# Deleting redundant columns"
   ]
  },
  {
   "cell_type": "code",
   "execution_count": 19,
   "id": "8227405a-a323-47d5-bb74-28b7529a7ad2",
   "metadata": {},
   "outputs": [],
   "source": [
    "columns_to_keep = ['show_id', 'title', 'director', 'release_year', 'duration', 'listed_in']\n",
    "columns_to_drop = ['type', 'country', 'date_added', 'rating']"
   ]
  },
  {
   "cell_type": "code",
   "execution_count": 21,
   "id": "96f78987-2e5b-40e4-8058-828a58a837ea",
   "metadata": {},
   "outputs": [],
   "source": [
    "data.drop(columns = columns_to_drop, inplace = True)"
   ]
  },
  {
   "cell_type": "code",
   "execution_count": 22,
   "id": "9e92500d-7aa9-40e9-a65b-a7e79c06e61e",
   "metadata": {},
   "outputs": [
    {
     "data": {
      "text/plain": [
       "(8790, 6)"
      ]
     },
     "execution_count": 22,
     "metadata": {},
     "output_type": "execute_result"
    }
   ],
   "source": [
    "data.shape"
   ]
  },
  {
   "cell_type": "markdown",
   "id": "9f022da0-b43e-4adf-a7d9-a3af3176b44d",
   "metadata": {},
   "source": [
    "# Renaming the columns"
   ]
  },
  {
   "cell_type": "code",
   "execution_count": 25,
   "id": "6a3dd630-3a9d-4148-8a37-08318a0d1b47",
   "metadata": {},
   "outputs": [
    {
     "data": {
      "text/html": [
       "<div>\n",
       "<style scoped>\n",
       "    .dataframe tbody tr th:only-of-type {\n",
       "        vertical-align: middle;\n",
       "    }\n",
       "\n",
       "    .dataframe tbody tr th {\n",
       "        vertical-align: top;\n",
       "    }\n",
       "\n",
       "    .dataframe thead th {\n",
       "        text-align: right;\n",
       "    }\n",
       "</style>\n",
       "<table border=\"1\" class=\"dataframe\">\n",
       "  <thead>\n",
       "    <tr style=\"text-align: right;\">\n",
       "      <th></th>\n",
       "      <th>show_id</th>\n",
       "      <th>TITLE</th>\n",
       "      <th>director</th>\n",
       "      <th>release_year</th>\n",
       "      <th>duration</th>\n",
       "      <th>listed_in</th>\n",
       "    </tr>\n",
       "  </thead>\n",
       "  <tbody>\n",
       "    <tr>\n",
       "      <th>0</th>\n",
       "      <td>s1</td>\n",
       "      <td>Dick Johnson Is Dead</td>\n",
       "      <td>Kirsten Johnson</td>\n",
       "      <td>2020</td>\n",
       "      <td>90 min</td>\n",
       "      <td>Documentaries</td>\n",
       "    </tr>\n",
       "    <tr>\n",
       "      <th>1</th>\n",
       "      <td>s3</td>\n",
       "      <td>Ganglands</td>\n",
       "      <td>Julien Leclercq</td>\n",
       "      <td>2021</td>\n",
       "      <td>1 Season</td>\n",
       "      <td>Crime TV Shows, International TV Shows, TV Act...</td>\n",
       "    </tr>\n",
       "    <tr>\n",
       "      <th>2</th>\n",
       "      <td>s6</td>\n",
       "      <td>Midnight Mass</td>\n",
       "      <td>Mike Flanagan</td>\n",
       "      <td>2021</td>\n",
       "      <td>1 Season</td>\n",
       "      <td>TV Dramas, TV Horror, TV Mysteries</td>\n",
       "    </tr>\n",
       "    <tr>\n",
       "      <th>3</th>\n",
       "      <td>s14</td>\n",
       "      <td>Confessions of an Invisible Girl</td>\n",
       "      <td>Bruno Garotti</td>\n",
       "      <td>2021</td>\n",
       "      <td>91 min</td>\n",
       "      <td>Children &amp; Family Movies, Comedies</td>\n",
       "    </tr>\n",
       "    <tr>\n",
       "      <th>4</th>\n",
       "      <td>s8</td>\n",
       "      <td>Sankofa</td>\n",
       "      <td>Haile Gerima</td>\n",
       "      <td>1993</td>\n",
       "      <td>125 min</td>\n",
       "      <td>Dramas, Independent Movies, International Movies</td>\n",
       "    </tr>\n",
       "    <tr>\n",
       "      <th>...</th>\n",
       "      <td>...</td>\n",
       "      <td>...</td>\n",
       "      <td>...</td>\n",
       "      <td>...</td>\n",
       "      <td>...</td>\n",
       "      <td>...</td>\n",
       "    </tr>\n",
       "    <tr>\n",
       "      <th>8785</th>\n",
       "      <td>s8797</td>\n",
       "      <td>Yunus Emre</td>\n",
       "      <td>Not Given</td>\n",
       "      <td>2016</td>\n",
       "      <td>2 Seasons</td>\n",
       "      <td>International TV Shows, TV Dramas</td>\n",
       "    </tr>\n",
       "    <tr>\n",
       "      <th>8786</th>\n",
       "      <td>s8798</td>\n",
       "      <td>Zak Storm</td>\n",
       "      <td>Not Given</td>\n",
       "      <td>2016</td>\n",
       "      <td>3 Seasons</td>\n",
       "      <td>Kids' TV</td>\n",
       "    </tr>\n",
       "    <tr>\n",
       "      <th>8787</th>\n",
       "      <td>s8801</td>\n",
       "      <td>Zindagi Gulzar Hai</td>\n",
       "      <td>Not Given</td>\n",
       "      <td>2012</td>\n",
       "      <td>1 Season</td>\n",
       "      <td>International TV Shows, Romantic TV Shows, TV ...</td>\n",
       "    </tr>\n",
       "    <tr>\n",
       "      <th>8788</th>\n",
       "      <td>s8784</td>\n",
       "      <td>Yoko</td>\n",
       "      <td>Not Given</td>\n",
       "      <td>2016</td>\n",
       "      <td>1 Season</td>\n",
       "      <td>Kids' TV</td>\n",
       "    </tr>\n",
       "    <tr>\n",
       "      <th>8789</th>\n",
       "      <td>s8786</td>\n",
       "      <td>YOM</td>\n",
       "      <td>Not Given</td>\n",
       "      <td>2016</td>\n",
       "      <td>1 Season</td>\n",
       "      <td>Kids' TV</td>\n",
       "    </tr>\n",
       "  </tbody>\n",
       "</table>\n",
       "<p>8790 rows × 6 columns</p>\n",
       "</div>"
      ],
      "text/plain": [
       "     show_id                             TITLE         director  release_year  \\\n",
       "0         s1              Dick Johnson Is Dead  Kirsten Johnson          2020   \n",
       "1         s3                         Ganglands  Julien Leclercq          2021   \n",
       "2         s6                     Midnight Mass    Mike Flanagan          2021   \n",
       "3        s14  Confessions of an Invisible Girl    Bruno Garotti          2021   \n",
       "4         s8                           Sankofa     Haile Gerima          1993   \n",
       "...      ...                               ...              ...           ...   \n",
       "8785   s8797                        Yunus Emre        Not Given          2016   \n",
       "8786   s8798                         Zak Storm        Not Given          2016   \n",
       "8787   s8801                Zindagi Gulzar Hai        Not Given          2012   \n",
       "8788   s8784                              Yoko        Not Given          2016   \n",
       "8789   s8786                               YOM        Not Given          2016   \n",
       "\n",
       "       duration                                          listed_in  \n",
       "0        90 min                                      Documentaries  \n",
       "1      1 Season  Crime TV Shows, International TV Shows, TV Act...  \n",
       "2      1 Season                 TV Dramas, TV Horror, TV Mysteries  \n",
       "3        91 min                 Children & Family Movies, Comedies  \n",
       "4       125 min   Dramas, Independent Movies, International Movies  \n",
       "...         ...                                                ...  \n",
       "8785  2 Seasons                  International TV Shows, TV Dramas  \n",
       "8786  3 Seasons                                           Kids' TV  \n",
       "8787   1 Season  International TV Shows, Romantic TV Shows, TV ...  \n",
       "8788   1 Season                                           Kids' TV  \n",
       "8789   1 Season                                           Kids' TV  \n",
       "\n",
       "[8790 rows x 6 columns]"
      ]
     },
     "execution_count": 25,
     "metadata": {},
     "output_type": "execute_result"
    }
   ],
   "source": [
    "data.rename(columns = {\"title\":\"TITLE\"})"
   ]
  },
  {
   "cell_type": "code",
   "execution_count": 26,
   "id": "8d855d70-2f25-486d-bfa3-b2d3306ec4c4",
   "metadata": {},
   "outputs": [],
   "source": [
    "new_columns_to_keep = []\n",
    "for i in columns_to_keep:\n",
    "    new_columns_to_keep.append(i.capitalize())"
   ]
  },
  {
   "cell_type": "code",
   "execution_count": 27,
   "id": "4879803e-ce8e-4120-acf2-57a5d515bcb0",
   "metadata": {},
   "outputs": [
    {
     "data": {
      "text/plain": [
       "['Show_id', 'Title', 'Director', 'Release_year', 'Duration', 'Listed_in']"
      ]
     },
     "execution_count": 27,
     "metadata": {},
     "output_type": "execute_result"
    }
   ],
   "source": [
    "new_columns_to_keep"
   ]
  },
  {
   "cell_type": "code",
   "execution_count": 28,
   "id": "38fd8701-784d-40e7-86f1-9973c26dfe0c",
   "metadata": {},
   "outputs": [],
   "source": [
    "data.columns = new_columns_to_keep"
   ]
  },
  {
   "cell_type": "code",
   "execution_count": 30,
   "id": "d54ef10e-8743-4a69-9db6-5f6c100b5d66",
   "metadata": {},
   "outputs": [
    {
     "data": {
      "text/html": [
       "<div>\n",
       "<style scoped>\n",
       "    .dataframe tbody tr th:only-of-type {\n",
       "        vertical-align: middle;\n",
       "    }\n",
       "\n",
       "    .dataframe tbody tr th {\n",
       "        vertical-align: top;\n",
       "    }\n",
       "\n",
       "    .dataframe thead th {\n",
       "        text-align: right;\n",
       "    }\n",
       "</style>\n",
       "<table border=\"1\" class=\"dataframe\">\n",
       "  <thead>\n",
       "    <tr style=\"text-align: right;\">\n",
       "      <th></th>\n",
       "      <th>Show_id</th>\n",
       "      <th>Title</th>\n",
       "      <th>Director</th>\n",
       "      <th>Release_year</th>\n",
       "      <th>Duration</th>\n",
       "      <th>Listed_in</th>\n",
       "    </tr>\n",
       "  </thead>\n",
       "  <tbody>\n",
       "    <tr>\n",
       "      <th>0</th>\n",
       "      <td>s1</td>\n",
       "      <td>Dick Johnson Is Dead</td>\n",
       "      <td>Kirsten Johnson</td>\n",
       "      <td>2020</td>\n",
       "      <td>90 min</td>\n",
       "      <td>Documentaries</td>\n",
       "    </tr>\n",
       "    <tr>\n",
       "      <th>1</th>\n",
       "      <td>s3</td>\n",
       "      <td>Ganglands</td>\n",
       "      <td>Julien Leclercq</td>\n",
       "      <td>2021</td>\n",
       "      <td>1 Season</td>\n",
       "      <td>Crime TV Shows, International TV Shows, TV Act...</td>\n",
       "    </tr>\n",
       "    <tr>\n",
       "      <th>2</th>\n",
       "      <td>s6</td>\n",
       "      <td>Midnight Mass</td>\n",
       "      <td>Mike Flanagan</td>\n",
       "      <td>2021</td>\n",
       "      <td>1 Season</td>\n",
       "      <td>TV Dramas, TV Horror, TV Mysteries</td>\n",
       "    </tr>\n",
       "    <tr>\n",
       "      <th>3</th>\n",
       "      <td>s14</td>\n",
       "      <td>Confessions of an Invisible Girl</td>\n",
       "      <td>Bruno Garotti</td>\n",
       "      <td>2021</td>\n",
       "      <td>91 min</td>\n",
       "      <td>Children &amp; Family Movies, Comedies</td>\n",
       "    </tr>\n",
       "    <tr>\n",
       "      <th>4</th>\n",
       "      <td>s8</td>\n",
       "      <td>Sankofa</td>\n",
       "      <td>Haile Gerima</td>\n",
       "      <td>1993</td>\n",
       "      <td>125 min</td>\n",
       "      <td>Dramas, Independent Movies, International Movies</td>\n",
       "    </tr>\n",
       "  </tbody>\n",
       "</table>\n",
       "</div>"
      ],
      "text/plain": [
       "  Show_id                             Title         Director  Release_year  \\\n",
       "0      s1              Dick Johnson Is Dead  Kirsten Johnson          2020   \n",
       "1      s3                         Ganglands  Julien Leclercq          2021   \n",
       "2      s6                     Midnight Mass    Mike Flanagan          2021   \n",
       "3     s14  Confessions of an Invisible Girl    Bruno Garotti          2021   \n",
       "4      s8                           Sankofa     Haile Gerima          1993   \n",
       "\n",
       "   Duration                                          Listed_in  \n",
       "0    90 min                                      Documentaries  \n",
       "1  1 Season  Crime TV Shows, International TV Shows, TV Act...  \n",
       "2  1 Season                 TV Dramas, TV Horror, TV Mysteries  \n",
       "3    91 min                 Children & Family Movies, Comedies  \n",
       "4   125 min   Dramas, Independent Movies, International Movies  "
      ]
     },
     "execution_count": 30,
     "metadata": {},
     "output_type": "execute_result"
    }
   ],
   "source": [
    "data.head()"
   ]
  },
  {
   "cell_type": "markdown",
   "id": "8c0f26dd-fb7a-44c6-b8d9-8e196f329827",
   "metadata": {},
   "source": [
    "# Dropping duplicates"
   ]
  },
  {
   "cell_type": "code",
   "execution_count": 33,
   "id": "8b91f309-cd3c-4f40-9294-be727df51308",
   "metadata": {},
   "outputs": [
    {
     "data": {
      "text/plain": [
       "0       False\n",
       "1       False\n",
       "2       False\n",
       "3       False\n",
       "4       False\n",
       "        ...  \n",
       "8785    False\n",
       "8786    False\n",
       "8787    False\n",
       "8788    False\n",
       "8789    False\n",
       "Length: 8790, dtype: bool"
      ]
     },
     "execution_count": 33,
     "metadata": {},
     "output_type": "execute_result"
    }
   ],
   "source": [
    "data.duplicated()"
   ]
  },
  {
   "cell_type": "code",
   "execution_count": 34,
   "id": "fd2a1789-ab4a-48b5-bfa6-44ad4d0dd0bd",
   "metadata": {},
   "outputs": [
    {
     "name": "stdout",
     "output_type": "stream",
     "text": [
      "0\n",
      "\n",
      "False    8790\n",
      "Name: count, dtype: int64\n"
     ]
    }
   ],
   "source": [
    "print(data.duplicated().sum())\n",
    "print()\n",
    "print(data.duplicated().value_counts())"
   ]
  },
  {
   "cell_type": "code",
   "execution_count": 35,
   "id": "48946d92-fae8-4735-a35f-b8db65c56a47",
   "metadata": {},
   "outputs": [
    {
     "data": {
      "text/plain": [
       "(8790, 6)"
      ]
     },
     "execution_count": 35,
     "metadata": {},
     "output_type": "execute_result"
    }
   ],
   "source": [
    "data.shape"
   ]
  },
  {
   "cell_type": "code",
   "execution_count": 40,
   "id": "f277e634-aa80-4cc2-a55f-f423dcb08065",
   "metadata": {},
   "outputs": [],
   "source": [
    "# Anyways\n",
    "data.drop_duplicates(inplace = True)"
   ]
  },
  {
   "cell_type": "code",
   "execution_count": 41,
   "id": "00544f68-6bd7-4208-b0ea-98f0e8d9e899",
   "metadata": {},
   "outputs": [
    {
     "data": {
      "text/plain": [
       "Show_id         s1s3s6s14s8s9s10s939s13s940s941s942s852s471s73...\n",
       "Title           Dick Johnson Is DeadGanglandsMidnight MassConf...\n",
       "Director        Kirsten JohnsonJulien LeclercqMike FlanaganBru...\n",
       "Release_year                                             17704670\n",
       "Duration        90 min1 Season1 Season91 min125 min9 Seasons10...\n",
       "Listed_in       DocumentariesCrime TV Shows, International TV ...\n",
       "dtype: object"
      ]
     },
     "execution_count": 41,
     "metadata": {},
     "output_type": "execute_result"
    }
   ],
   "source": [
    "data.drop_duplicates().sum() #When you apply .sum() without specifying a column, Pandas tries to add values column-wise"
   ]
  },
  {
   "cell_type": "code",
   "execution_count": 42,
   "id": "27a298ca-62a1-4307-bf9e-061a1a1ac53f",
   "metadata": {},
   "outputs": [
    {
     "data": {
      "text/plain": [
       "(8790, 6)"
      ]
     },
     "execution_count": 42,
     "metadata": {},
     "output_type": "execute_result"
    }
   ],
   "source": [
    "data.shape"
   ]
  },
  {
   "cell_type": "markdown",
   "id": "c7d9eafe-e022-4207-8b5c-82fc2688f1fe",
   "metadata": {},
   "source": [
    "# Remove the NaN values"
   ]
  },
  {
   "cell_type": "code",
   "execution_count": 43,
   "id": "a94b2e11-614c-4057-9cfb-d7e94b47ff8f",
   "metadata": {},
   "outputs": [
    {
     "name": "stdout",
     "output_type": "stream",
     "text": [
      "Show_id         0\n",
      "Title           0\n",
      "Director        0\n",
      "Release_year    0\n",
      "Duration        0\n",
      "Listed_in       0\n",
      "dtype: int64\n",
      "\n",
      "Show_id  Title  Director  Release_year  Duration  Listed_in\n",
      "False    False  False     False         False     False        8790\n",
      "Name: count, dtype: int64\n"
     ]
    }
   ],
   "source": [
    "print(data.isna().sum())\n",
    "print()\n",
    "print(data.isna().value_counts())"
   ]
  },
  {
   "cell_type": "code",
   "execution_count": 45,
   "id": "121e861f-2ac2-42ee-b841-b4b562c49b37",
   "metadata": {},
   "outputs": [],
   "source": [
    "# Anyways\n",
    "data.dropna(inplace = True)"
   ]
  },
  {
   "cell_type": "markdown",
   "id": "9b4f55a6-6ef5-43a8-8adf-8f859e5c0d00",
   "metadata": {},
   "source": [
    "# Transformations"
   ]
  },
  {
   "cell_type": "code",
   "execution_count": 46,
   "id": "acef5b0c-e975-4801-a3e5-3c5b42defddc",
   "metadata": {},
   "outputs": [
    {
     "data": {
      "text/html": [
       "<div>\n",
       "<style scoped>\n",
       "    .dataframe tbody tr th:only-of-type {\n",
       "        vertical-align: middle;\n",
       "    }\n",
       "\n",
       "    .dataframe tbody tr th {\n",
       "        vertical-align: top;\n",
       "    }\n",
       "\n",
       "    .dataframe thead th {\n",
       "        text-align: right;\n",
       "    }\n",
       "</style>\n",
       "<table border=\"1\" class=\"dataframe\">\n",
       "  <thead>\n",
       "    <tr style=\"text-align: right;\">\n",
       "      <th></th>\n",
       "      <th>Show_id</th>\n",
       "      <th>Title</th>\n",
       "      <th>Director</th>\n",
       "      <th>Release_year</th>\n",
       "      <th>Duration</th>\n",
       "      <th>Listed_in</th>\n",
       "    </tr>\n",
       "  </thead>\n",
       "  <tbody>\n",
       "    <tr>\n",
       "      <th>0</th>\n",
       "      <td>s1</td>\n",
       "      <td>Dick Johnson Is Dead</td>\n",
       "      <td>Kirsten Johnson</td>\n",
       "      <td>2020</td>\n",
       "      <td>90 min</td>\n",
       "      <td>Documentaries</td>\n",
       "    </tr>\n",
       "    <tr>\n",
       "      <th>1</th>\n",
       "      <td>s3</td>\n",
       "      <td>Ganglands</td>\n",
       "      <td>Julien Leclercq</td>\n",
       "      <td>2021</td>\n",
       "      <td>1 Season</td>\n",
       "      <td>Crime TV Shows, International TV Shows, TV Act...</td>\n",
       "    </tr>\n",
       "    <tr>\n",
       "      <th>2</th>\n",
       "      <td>s6</td>\n",
       "      <td>Midnight Mass</td>\n",
       "      <td>Mike Flanagan</td>\n",
       "      <td>2021</td>\n",
       "      <td>1 Season</td>\n",
       "      <td>TV Dramas, TV Horror, TV Mysteries</td>\n",
       "    </tr>\n",
       "    <tr>\n",
       "      <th>3</th>\n",
       "      <td>s14</td>\n",
       "      <td>Confessions of an Invisible Girl</td>\n",
       "      <td>Bruno Garotti</td>\n",
       "      <td>2021</td>\n",
       "      <td>91 min</td>\n",
       "      <td>Children &amp; Family Movies, Comedies</td>\n",
       "    </tr>\n",
       "    <tr>\n",
       "      <th>4</th>\n",
       "      <td>s8</td>\n",
       "      <td>Sankofa</td>\n",
       "      <td>Haile Gerima</td>\n",
       "      <td>1993</td>\n",
       "      <td>125 min</td>\n",
       "      <td>Dramas, Independent Movies, International Movies</td>\n",
       "    </tr>\n",
       "  </tbody>\n",
       "</table>\n",
       "</div>"
      ],
      "text/plain": [
       "  Show_id                             Title         Director  Release_year  \\\n",
       "0      s1              Dick Johnson Is Dead  Kirsten Johnson          2020   \n",
       "1      s3                         Ganglands  Julien Leclercq          2021   \n",
       "2      s6                     Midnight Mass    Mike Flanagan          2021   \n",
       "3     s14  Confessions of an Invisible Girl    Bruno Garotti          2021   \n",
       "4      s8                           Sankofa     Haile Gerima          1993   \n",
       "\n",
       "   Duration                                          Listed_in  \n",
       "0    90 min                                      Documentaries  \n",
       "1  1 Season  Crime TV Shows, International TV Shows, TV Act...  \n",
       "2  1 Season                 TV Dramas, TV Horror, TV Mysteries  \n",
       "3    91 min                 Children & Family Movies, Comedies  \n",
       "4   125 min   Dramas, Independent Movies, International Movies  "
      ]
     },
     "execution_count": 46,
     "metadata": {},
     "output_type": "execute_result"
    }
   ],
   "source": [
    "data.head()"
   ]
  },
  {
   "cell_type": "code",
   "execution_count": 55,
   "id": "7d22a797-7fb0-4124-84f9-d7fa9b4433c8",
   "metadata": {},
   "outputs": [
    {
     "data": {
      "text/plain": [
       "str"
      ]
     },
     "execution_count": 55,
     "metadata": {},
     "output_type": "execute_result"
    }
   ],
   "source": [
    "type(data[\"Show_id\"][15])"
   ]
  },
  {
   "cell_type": "code",
   "execution_count": 76,
   "id": "1a3641f9-a153-43a6-9de4-c48727e36f2f",
   "metadata": {},
   "outputs": [],
   "source": [
    "for idx, row in enumerate(data.itertuples(), start=1): # Gives you a running counter idx\n",
    "    initials = ''.join([word[0].upper() for word in row.Title.split()])\n",
    "    show_id = initials + str(idx) + str(row.Release_year)\n",
    "    show_ids.append(show_id)\n",
    "    data.at[idx-1, \"Show_id\"] = show_id # Direct Assignment without List"
   ]
  },
  {
   "cell_type": "code",
   "execution_count": 77,
   "id": "cf76ea5e-a507-4d2c-965b-bec86c225ce6",
   "metadata": {},
   "outputs": [
    {
     "data": {
      "text/html": [
       "<div>\n",
       "<style scoped>\n",
       "    .dataframe tbody tr th:only-of-type {\n",
       "        vertical-align: middle;\n",
       "    }\n",
       "\n",
       "    .dataframe tbody tr th {\n",
       "        vertical-align: top;\n",
       "    }\n",
       "\n",
       "    .dataframe thead th {\n",
       "        text-align: right;\n",
       "    }\n",
       "</style>\n",
       "<table border=\"1\" class=\"dataframe\">\n",
       "  <thead>\n",
       "    <tr style=\"text-align: right;\">\n",
       "      <th></th>\n",
       "      <th>Show_id</th>\n",
       "      <th>Title</th>\n",
       "      <th>Director</th>\n",
       "      <th>Release_year</th>\n",
       "      <th>Duration</th>\n",
       "      <th>Listed_in</th>\n",
       "    </tr>\n",
       "  </thead>\n",
       "  <tbody>\n",
       "    <tr>\n",
       "      <th>0</th>\n",
       "      <td>DJID12020</td>\n",
       "      <td>Dick Johnson Is Dead</td>\n",
       "      <td>Kirsten Johnson</td>\n",
       "      <td>2020</td>\n",
       "      <td>90 min</td>\n",
       "      <td>Documentaries</td>\n",
       "    </tr>\n",
       "    <tr>\n",
       "      <th>1</th>\n",
       "      <td>G22021</td>\n",
       "      <td>Ganglands</td>\n",
       "      <td>Julien Leclercq</td>\n",
       "      <td>2021</td>\n",
       "      <td>1 Season</td>\n",
       "      <td>Crime TV Shows, International TV Shows, TV Act...</td>\n",
       "    </tr>\n",
       "    <tr>\n",
       "      <th>2</th>\n",
       "      <td>MM32021</td>\n",
       "      <td>Midnight Mass</td>\n",
       "      <td>Mike Flanagan</td>\n",
       "      <td>2021</td>\n",
       "      <td>1 Season</td>\n",
       "      <td>TV Dramas, TV Horror, TV Mysteries</td>\n",
       "    </tr>\n",
       "    <tr>\n",
       "      <th>3</th>\n",
       "      <td>COAIG42021</td>\n",
       "      <td>Confessions of an Invisible Girl</td>\n",
       "      <td>Bruno Garotti</td>\n",
       "      <td>2021</td>\n",
       "      <td>91 min</td>\n",
       "      <td>Children &amp; Family Movies, Comedies</td>\n",
       "    </tr>\n",
       "    <tr>\n",
       "      <th>4</th>\n",
       "      <td>S51993</td>\n",
       "      <td>Sankofa</td>\n",
       "      <td>Haile Gerima</td>\n",
       "      <td>1993</td>\n",
       "      <td>125 min</td>\n",
       "      <td>Dramas, Independent Movies, International Movies</td>\n",
       "    </tr>\n",
       "  </tbody>\n",
       "</table>\n",
       "</div>"
      ],
      "text/plain": [
       "      Show_id                             Title         Director  \\\n",
       "0   DJID12020              Dick Johnson Is Dead  Kirsten Johnson   \n",
       "1      G22021                         Ganglands  Julien Leclercq   \n",
       "2     MM32021                     Midnight Mass    Mike Flanagan   \n",
       "3  COAIG42021  Confessions of an Invisible Girl    Bruno Garotti   \n",
       "4      S51993                           Sankofa     Haile Gerima   \n",
       "\n",
       "   Release_year  Duration                                          Listed_in  \n",
       "0          2020    90 min                                      Documentaries  \n",
       "1          2021  1 Season  Crime TV Shows, International TV Shows, TV Act...  \n",
       "2          2021  1 Season                 TV Dramas, TV Horror, TV Mysteries  \n",
       "3          2021    91 min                 Children & Family Movies, Comedies  \n",
       "4          1993   125 min   Dramas, Independent Movies, International Movies  "
      ]
     },
     "execution_count": 77,
     "metadata": {},
     "output_type": "execute_result"
    }
   ],
   "source": [
    "data.head()"
   ]
  },
  {
   "cell_type": "code",
   "execution_count": 80,
   "id": "586ab939-4b43-4e0a-8b45-7664ef5d0d36",
   "metadata": {},
   "outputs": [],
   "source": [
    "data[\"Duration\"] = data[\"Duration\"].apply(lambda x: x.replace(\"Season\", \"Session\"))"
   ]
  },
  {
   "cell_type": "code",
   "execution_count": 84,
   "id": "b61d9ffb-9843-424a-a5bb-31b6880bd4b6",
   "metadata": {},
   "outputs": [],
   "source": [
    "data[\"Director\"] = data[\"Director\"].apply(lambda x: x.replace(\"Not Given\", \"Malum Nahi\"))"
   ]
  },
  {
   "cell_type": "code",
   "execution_count": 85,
   "id": "d541f476-6e10-4087-9303-90d1fe715b81",
   "metadata": {},
   "outputs": [
    {
     "data": {
      "text/html": [
       "<div>\n",
       "<style scoped>\n",
       "    .dataframe tbody tr th:only-of-type {\n",
       "        vertical-align: middle;\n",
       "    }\n",
       "\n",
       "    .dataframe tbody tr th {\n",
       "        vertical-align: top;\n",
       "    }\n",
       "\n",
       "    .dataframe thead th {\n",
       "        text-align: right;\n",
       "    }\n",
       "</style>\n",
       "<table border=\"1\" class=\"dataframe\">\n",
       "  <thead>\n",
       "    <tr style=\"text-align: right;\">\n",
       "      <th></th>\n",
       "      <th>Show_id</th>\n",
       "      <th>Title</th>\n",
       "      <th>Director</th>\n",
       "      <th>Release_year</th>\n",
       "      <th>Duration</th>\n",
       "      <th>Listed_in</th>\n",
       "    </tr>\n",
       "  </thead>\n",
       "  <tbody>\n",
       "    <tr>\n",
       "      <th>8785</th>\n",
       "      <td>YE87862016</td>\n",
       "      <td>Yunus Emre</td>\n",
       "      <td>Malum Nahi</td>\n",
       "      <td>2016</td>\n",
       "      <td>2 Sessions</td>\n",
       "      <td>International TV Shows, TV Dramas</td>\n",
       "    </tr>\n",
       "    <tr>\n",
       "      <th>8786</th>\n",
       "      <td>ZS87872016</td>\n",
       "      <td>Zak Storm</td>\n",
       "      <td>Malum Nahi</td>\n",
       "      <td>2016</td>\n",
       "      <td>3 Sessions</td>\n",
       "      <td>Kids' TV</td>\n",
       "    </tr>\n",
       "    <tr>\n",
       "      <th>8787</th>\n",
       "      <td>ZGH87882012</td>\n",
       "      <td>Zindagi Gulzar Hai</td>\n",
       "      <td>Malum Nahi</td>\n",
       "      <td>2012</td>\n",
       "      <td>1 Session</td>\n",
       "      <td>International TV Shows, Romantic TV Shows, TV ...</td>\n",
       "    </tr>\n",
       "    <tr>\n",
       "      <th>8788</th>\n",
       "      <td>Y87892016</td>\n",
       "      <td>Yoko</td>\n",
       "      <td>Malum Nahi</td>\n",
       "      <td>2016</td>\n",
       "      <td>1 Session</td>\n",
       "      <td>Kids' TV</td>\n",
       "    </tr>\n",
       "    <tr>\n",
       "      <th>8789</th>\n",
       "      <td>Y87902016</td>\n",
       "      <td>YOM</td>\n",
       "      <td>Malum Nahi</td>\n",
       "      <td>2016</td>\n",
       "      <td>1 Session</td>\n",
       "      <td>Kids' TV</td>\n",
       "    </tr>\n",
       "  </tbody>\n",
       "</table>\n",
       "</div>"
      ],
      "text/plain": [
       "          Show_id               Title    Director  Release_year    Duration  \\\n",
       "8785   YE87862016          Yunus Emre  Malum Nahi          2016  2 Sessions   \n",
       "8786   ZS87872016           Zak Storm  Malum Nahi          2016  3 Sessions   \n",
       "8787  ZGH87882012  Zindagi Gulzar Hai  Malum Nahi          2012   1 Session   \n",
       "8788    Y87892016                Yoko  Malum Nahi          2016   1 Session   \n",
       "8789    Y87902016                 YOM  Malum Nahi          2016   1 Session   \n",
       "\n",
       "                                              Listed_in  \n",
       "8785                  International TV Shows, TV Dramas  \n",
       "8786                                           Kids' TV  \n",
       "8787  International TV Shows, Romantic TV Shows, TV ...  \n",
       "8788                                           Kids' TV  \n",
       "8789                                           Kids' TV  "
      ]
     },
     "execution_count": 85,
     "metadata": {},
     "output_type": "execute_result"
    }
   ],
   "source": [
    "data.tail()"
   ]
  },
  {
   "cell_type": "markdown",
   "id": "af81f716-ed67-4647-bbb7-fe25a93f82f9",
   "metadata": {},
   "source": [
    "# Save the reformed DATA"
   ]
  },
  {
   "cell_type": "code",
   "execution_count": 86,
   "id": "5f9046e6-683b-48e2-9c36-6e44d64659bf",
   "metadata": {},
   "outputs": [],
   "source": [
    "data.to_csv(\"Cleaned_Netflix_CSV\")"
   ]
  },
  {
   "cell_type": "code",
   "execution_count": null,
   "id": "b3c5c674-3afb-45c5-a467-cb1bc6ef087b",
   "metadata": {},
   "outputs": [],
   "source": []
  }
 ],
 "metadata": {
  "kernelspec": {
   "display_name": "Python [conda env:base] *",
   "language": "python",
   "name": "conda-base-py"
  },
  "language_info": {
   "codemirror_mode": {
    "name": "ipython",
    "version": 3
   },
   "file_extension": ".py",
   "mimetype": "text/x-python",
   "name": "python",
   "nbconvert_exporter": "python",
   "pygments_lexer": "ipython3",
   "version": "3.13.5"
  }
 },
 "nbformat": 4,
 "nbformat_minor": 5
}
